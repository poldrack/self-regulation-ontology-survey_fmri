{
 "cells": [
  {
   "cell_type": "code",
   "execution_count": 6,
   "metadata": {},
   "outputs": [],
   "source": [
    "import pandas as pd\n",
    "import numpy as np\n",
    "import os"
   ]
  },
  {
   "cell_type": "code",
   "execution_count": 89,
   "metadata": {},
   "outputs": [
    {
     "name": "stderr",
     "output_type": "stream",
     "text": [
      "/home/finc/anaconda/lib/python3.6/site-packages/ipykernel_launcher.py:14: FutureWarning: Sorting because non-concatenation axis is not aligned. A future version\n",
      "of pandas will change to not sort by default.\n",
      "\n",
      "To accept the future behavior, pass 'sort=False'.\n",
      "\n",
      "To retain the current behavior and silence the warning, pass 'sort=True'.\n",
      "\n",
      "  \n"
     ]
    },
    {
     "name": "stdout",
     "output_type": "stream",
     "text": [
      "Subjects with junk trials: 33\n",
      "Subjects without junk trials: 70\n"
     ]
    }
   ],
   "source": [
    "beh_dir = f'/home/finc/Dropbox/Projects/SelfReg/data/behavioral/prep/'\n",
    "out_dir = '/home/finc/Dropbox/Projects/SelfReg/data/behavioral/'\n",
    "\n",
    "task = 'surveyMedley'\n",
    "\n",
    "subs_list = os.listdir(beh_dir)\n",
    "\n",
    "\n",
    "tidy_data = pd.DataFrame()\n",
    "\n",
    "for sub in subs_list:\n",
    "    events_prep = pd.read_csv(f'{beh_dir}{sub}/{sub}_{task}_clean.csv')\n",
    "    events_prep['subject_id'] = sub\n",
    "    tidy_data = pd.concat([tidy_data, events_prep], axis = 0)\n",
    "\n",
    "tidy_data_clean =  pd.DataFrame(tidy_data, columns=['subject_id', 'subject', 'survey', 'item_text', 'trial_type', 'coded_response', 'response_time', 'junk'])\n",
    "tidy_data_clean.to_csv(f'{out_dir}{task}_data_all_subjects_tidy.csv', index = False)\n",
    "\n",
    "\n",
    "junk = len(np.unique(tidy_data_clean['subject'].values[tidy_data_clean['junk'].values]))\n",
    "all_subjects = len(pd.unique(tidy_data_clean['subject']))\n",
    "\n",
    "print(f'Subjects with junk trials: {junk}')\n",
    "print(f'Subjects without junk trials: {all_subjects - junk}')"
   ]
  }
 ],
 "metadata": {
  "kernelspec": {
   "display_name": "Python 3",
   "language": "python",
   "name": "python3"
  },
  "language_info": {
   "codemirror_mode": {
    "name": "ipython",
    "version": 3
   },
   "file_extension": ".py",
   "mimetype": "text/x-python",
   "name": "python",
   "nbconvert_exporter": "python",
   "pygments_lexer": "ipython3",
   "version": "3.6.7"
  }
 },
 "nbformat": 4,
 "nbformat_minor": 2
}
